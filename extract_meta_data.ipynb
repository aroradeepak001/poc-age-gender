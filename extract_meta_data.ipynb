{
 "cells": [
  {
   "cell_type": "markdown",
   "metadata": {},
   "source": [
    "### import libraries : \n",
    "* Images have to be converted to .mat files , so use scipy.io\n",
    "* TQDM for reporting progress(https://github.com/tqdm/tqdm)\n",
    "* CV2 or Open CV as image libary(http://opencv-python-tutroals.readthedocs.io/en/latest/py_tutorials/py_gui/py_image_display/py_image_display.html)"
   ]
  },
  {
   "cell_type": "code",
   "execution_count": 17,
   "metadata": {},
   "outputs": [],
   "source": [
    "from tqdm import tqdm\n",
    "import numpy as np\n",
    "import scipy.io\n",
    "import cv2\n",
    "import pandas as pd"
   ]
  },
  {
   "cell_type": "markdown",
   "metadata": {},
   "source": [
    "### Setup Paths\n"
   ]
  },
  {
   "cell_type": "code",
   "execution_count": 2,
   "metadata": {},
   "outputs": [],
   "source": [
    "\n",
    "meta_data_file = '/media/deepak/New Volume/Data_POC/imdb_meta/imdb.mat'"
   ]
  },
  {
   "cell_type": "markdown",
   "metadata": {},
   "source": [
    "### Read the meta data file and examine one row of  it "
   ]
  },
  {
   "cell_type": "code",
   "execution_count": 3,
   "metadata": {},
   "outputs": [],
   "source": [
    "import scipy.io\n",
    "mat = scipy.io.loadmat(meta_data_file)\n",
    "\n"
   ]
  },
  {
   "cell_type": "code",
   "execution_count": 4,
   "metadata": {},
   "outputs": [
    {
     "data": {
      "text/plain": [
       "dict_keys(['__header__', '__version__', '__globals__', 'imdb'])"
      ]
     },
     "execution_count": 4,
     "metadata": {},
     "output_type": "execute_result"
    }
   ],
   "source": [
    "mat.keys()"
   ]
  },
  {
   "cell_type": "code",
   "execution_count": 5,
   "metadata": {},
   "outputs": [
    {
     "data": {
      "text/plain": [
       "dtype([('dob', 'O'), ('photo_taken', 'O'), ('full_path', 'O'), ('gender', 'O'), ('name', 'O'), ('face_location', 'O'), ('face_score', 'O'), ('second_face_score', 'O'), ('celeb_names', 'O'), ('celeb_id', 'O')])"
      ]
     },
     "execution_count": 5,
     "metadata": {},
     "output_type": "execute_result"
    }
   ],
   "source": [
    "imdb_data= mat['imdb'] \n",
    "imdb_data.dtype"
   ]
  },
  {
   "cell_type": "code",
   "execution_count": 7,
   "metadata": {},
   "outputs": [],
   "source": [
    "imdb_dtype=imdb_data.dtype"
   ]
  },
  {
   "cell_type": "code",
   "execution_count": 8,
   "metadata": {},
   "outputs": [],
   "source": [
    "ndata = {n: imdb_data[n][0, 0] for n in imdb_dtype.names}"
   ]
  },
  {
   "cell_type": "code",
   "execution_count": 9,
   "metadata": {},
   "outputs": [
    {
     "data": {
      "text/plain": [
       "array([[array([\"'Lee' George Quinones\"], dtype='<U21'),\n",
       "        array([\"'Weird Al' Yankovic\"], dtype='<U19'),\n",
       "        array(['2 Chainz'], dtype='<U8'), ...,\n",
       "        array(['Éric Caravaca'], dtype='<U13'),\n",
       "        array(['Ólafur Darri Ólafsson'], dtype='<U21'),\n",
       "        array(['Óscar Jaenada'], dtype='<U13')]], dtype=object)"
      ]
     },
     "execution_count": 9,
     "metadata": {},
     "output_type": "execute_result"
    }
   ],
   "source": [
    "ndata['celeb_names']"
   ]
  },
  {
   "cell_type": "code",
   "execution_count": 10,
   "metadata": {},
   "outputs": [],
   "source": [
    "columns = [n for n, v in ndata.items()]"
   ]
  },
  {
   "cell_type": "code",
   "execution_count": 11,
   "metadata": {},
   "outputs": [
    {
     "data": {
      "text/plain": [
       "['dob',\n",
       " 'photo_taken',\n",
       " 'full_path',\n",
       " 'gender',\n",
       " 'name',\n",
       " 'face_location',\n",
       " 'face_score',\n",
       " 'second_face_score',\n",
       " 'celeb_names',\n",
       " 'celeb_id']"
      ]
     },
     "execution_count": 11,
     "metadata": {},
     "output_type": "execute_result"
    }
   ],
   "source": [
    "columns"
   ]
  },
  {
   "cell_type": "code",
   "execution_count": 12,
   "metadata": {},
   "outputs": [
    {
     "data": {
      "text/plain": [
       "dict"
      ]
     },
     "execution_count": 12,
     "metadata": {},
     "output_type": "execute_result"
    }
   ],
   "source": [
    "type(ndata)"
   ]
  },
  {
   "cell_type": "code",
   "execution_count": 13,
   "metadata": {},
   "outputs": [],
   "source": [
    "meta_data_df = pd.DataFrame({'dob':ndata['dob'].transpose().tolist(),\n",
    "                   'full_path':ndata['full_path'].transpose().tolist(),\n",
    "                   'gender':ndata['gender'].transpose().tolist(),\n",
    "                   'face_location':ndata['face_location'].transpose().tolist(),\n",
    "                   'face_score':ndata['face_score'].transpose().tolist() ,\n",
    "                   'second_face_score':ndata['second_face_score'].transpose().tolist() })"
   ]
  },
  {
   "cell_type": "code",
   "execution_count": 15,
   "metadata": {},
   "outputs": [
    {
     "data": {
      "text/html": [
       "<div>\n",
       "<style scoped>\n",
       "    .dataframe tbody tr th:only-of-type {\n",
       "        vertical-align: middle;\n",
       "    }\n",
       "\n",
       "    .dataframe tbody tr th {\n",
       "        vertical-align: top;\n",
       "    }\n",
       "\n",
       "    .dataframe thead th {\n",
       "        text-align: right;\n",
       "    }\n",
       "</style>\n",
       "<table border=\"1\" class=\"dataframe\">\n",
       "  <thead>\n",
       "    <tr style=\"text-align: right;\">\n",
       "      <th></th>\n",
       "      <th>dob</th>\n",
       "      <th>face_location</th>\n",
       "      <th>face_score</th>\n",
       "      <th>full_path</th>\n",
       "      <th>gender</th>\n",
       "      <th>second_face_score</th>\n",
       "    </tr>\n",
       "  </thead>\n",
       "  <tbody>\n",
       "    <tr>\n",
       "      <th>0</th>\n",
       "      <td>[693726]</td>\n",
       "      <td>[[[1072.926, 161.838, 1214.7839999999999, 303....</td>\n",
       "      <td>[1.4596929136202572]</td>\n",
       "      <td>[[01/nm0000001_rm124825600_1899-5-10_1968.jpg]]</td>\n",
       "      <td>[1.0]</td>\n",
       "      <td>[1.1189733571573068]</td>\n",
       "    </tr>\n",
       "    <tr>\n",
       "      <th>1</th>\n",
       "      <td>[693726]</td>\n",
       "      <td>[[[477.184, 100.352, 622.592, 245.76]]]</td>\n",
       "      <td>[2.5431975987694435]</td>\n",
       "      <td>[[01/nm0000001_rm3343756032_1899-5-10_1970.jpg]]</td>\n",
       "      <td>[1.0]</td>\n",
       "      <td>[1.852007728341101]</td>\n",
       "    </tr>\n",
       "    <tr>\n",
       "      <th>2</th>\n",
       "      <td>[693726]</td>\n",
       "      <td>[[[114.96964308962852, 114.96964308962852, 451...</td>\n",
       "      <td>[3.455579487909806]</td>\n",
       "      <td>[[01/nm0000001_rm577153792_1899-5-10_1968.jpg]]</td>\n",
       "      <td>[1.0]</td>\n",
       "      <td>[2.9856602160994425]</td>\n",
       "    </tr>\n",
       "    <tr>\n",
       "      <th>3</th>\n",
       "      <td>[693726]</td>\n",
       "      <td>[[[622.8855056426588, 424.21750383700805, 844....</td>\n",
       "      <td>[1.872117169344902]</td>\n",
       "      <td>[[01/nm0000001_rm946909184_1899-5-10_1968.jpg]]</td>\n",
       "      <td>[1.0]</td>\n",
       "      <td>[nan]</td>\n",
       "    </tr>\n",
       "    <tr>\n",
       "      <th>4</th>\n",
       "      <td>[693726]</td>\n",
       "      <td>[[[1013.8590023603723, 233.8820422075853, 1201...</td>\n",
       "      <td>[1.1587657871914132]</td>\n",
       "      <td>[[01/nm0000001_rm980463616_1899-5-10_1968.jpg]]</td>\n",
       "      <td>[1.0]</td>\n",
       "      <td>[nan]</td>\n",
       "    </tr>\n",
       "  </tbody>\n",
       "</table>\n",
       "</div>"
      ],
      "text/plain": [
       "        dob                                      face_location  \\\n",
       "0  [693726]  [[[1072.926, 161.838, 1214.7839999999999, 303....   \n",
       "1  [693726]            [[[477.184, 100.352, 622.592, 245.76]]]   \n",
       "2  [693726]  [[[114.96964308962852, 114.96964308962852, 451...   \n",
       "3  [693726]  [[[622.8855056426588, 424.21750383700805, 844....   \n",
       "4  [693726]  [[[1013.8590023603723, 233.8820422075853, 1201...   \n",
       "\n",
       "             face_score                                         full_path  \\\n",
       "0  [1.4596929136202572]   [[01/nm0000001_rm124825600_1899-5-10_1968.jpg]]   \n",
       "1  [2.5431975987694435]  [[01/nm0000001_rm3343756032_1899-5-10_1970.jpg]]   \n",
       "2   [3.455579487909806]   [[01/nm0000001_rm577153792_1899-5-10_1968.jpg]]   \n",
       "3   [1.872117169344902]   [[01/nm0000001_rm946909184_1899-5-10_1968.jpg]]   \n",
       "4  [1.1587657871914132]   [[01/nm0000001_rm980463616_1899-5-10_1968.jpg]]   \n",
       "\n",
       "  gender     second_face_score  \n",
       "0  [1.0]  [1.1189733571573068]  \n",
       "1  [1.0]   [1.852007728341101]  \n",
       "2  [1.0]  [2.9856602160994425]  \n",
       "3  [1.0]                 [nan]  \n",
       "4  [1.0]                 [nan]  "
      ]
     },
     "execution_count": 15,
     "metadata": {},
     "output_type": "execute_result"
    }
   ],
   "source": [
    "meta_data_df.head()"
   ]
  },
  {
   "cell_type": "code",
   "execution_count": 16,
   "metadata": {},
   "outputs": [],
   "source": [
    "meta_data_df.to_csv('meta_data_imdb.csv')"
   ]
  },
  {
   "cell_type": "code",
   "execution_count": null,
   "metadata": {},
   "outputs": [],
   "source": []
  }
 ],
 "metadata": {
  "kernelspec": {
   "display_name": "Python 3",
   "language": "python",
   "name": "python3"
  },
  "language_info": {
   "codemirror_mode": {
    "name": "ipython",
    "version": 3
   },
   "file_extension": ".py",
   "mimetype": "text/x-python",
   "name": "python",
   "nbconvert_exporter": "python",
   "pygments_lexer": "ipython3",
   "version": "3.6.4"
  }
 },
 "nbformat": 4,
 "nbformat_minor": 2
}
